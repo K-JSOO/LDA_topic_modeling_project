{
 "cells": [
  {
   "cell_type": "code",
   "execution_count": 4,
   "metadata": {},
   "outputs": [],
   "source": [
    "import pandas as pd\n",
    "\n",
    "# 뉴스 파일 로드\n",
    "\n",
    "data=pd.read_excel('D:\\\\toy\\\\data\\\\Fix_online_news.xlsx')"
   ]
  },
  {
   "cell_type": "code",
   "execution_count": 5,
   "metadata": {},
   "outputs": [
    {
     "name": "stdout",
     "output_type": "stream",
     "text": [
      "<class 'pandas.core.frame.DataFrame'>\n",
      "RangeIndex: 409928 entries, 0 to 409927\n",
      "Data columns (total 7 columns):\n",
      " #   Column        Non-Null Count   Dtype \n",
      "---  ------        --------------   ----- \n",
      " 0   Index         409928 non-null  int64 \n",
      " 1   content       409928 non-null  object\n",
      " 2   content_url   65511 non-null   object\n",
      " 3   created_date  409928 non-null  object\n",
      " 4   publisher     409928 non-null  object\n",
      " 5   section       409928 non-null  object\n",
      " 6   title         409928 non-null  object\n",
      "dtypes: int64(1), object(6)\n",
      "memory usage: 21.9+ MB\n"
     ]
    }
   ],
   "source": [
    "data.info()"
   ]
  },
  {
   "cell_type": "code",
   "execution_count": 6,
   "metadata": {},
   "outputs": [
    {
     "name": "stdout",
     "output_type": "stream",
     "text": [
      "Index(['Index', 'content', 'content_url', 'created_date', 'publisher',\n",
      "       'section', 'title'],\n",
      "      dtype='object')\n"
     ]
    },
    {
     "data": {
      "text/html": [
       "<div>\n",
       "<style scoped>\n",
       "    .dataframe tbody tr th:only-of-type {\n",
       "        vertical-align: middle;\n",
       "    }\n",
       "\n",
       "    .dataframe tbody tr th {\n",
       "        vertical-align: top;\n",
       "    }\n",
       "\n",
       "    .dataframe thead th {\n",
       "        text-align: right;\n",
       "    }\n",
       "</style>\n",
       "<table border=\"1\" class=\"dataframe\">\n",
       "  <thead>\n",
       "    <tr style=\"text-align: right;\">\n",
       "      <th></th>\n",
       "      <th>Index</th>\n",
       "      <th>content</th>\n",
       "      <th>content_url</th>\n",
       "      <th>created_date</th>\n",
       "      <th>publisher</th>\n",
       "      <th>section</th>\n",
       "      <th>title</th>\n",
       "    </tr>\n",
       "  </thead>\n",
       "  <tbody>\n",
       "    <tr>\n",
       "      <th>0</th>\n",
       "      <td>1</td>\n",
       "      <td>충북지역 기업 체감 경기가 바닥에서는 벗어났지만 여전히 기준치에는 한참 못미치고 있...</td>\n",
       "      <td>NaN</td>\n",
       "      <td>2019-03-31T23:11:00.000000</td>\n",
       "      <td>노컷뉴스</td>\n",
       "      <td>society</td>\n",
       "      <td>충북 기업경기 반전?...67로 기준치 한참 못미쳐</td>\n",
       "    </tr>\n",
       "    <tr>\n",
       "      <th>1</th>\n",
       "      <td>2</td>\n",
       "      <td>43개월 만에 최저치… 먹구름 장기화\\n반도체 가격이 계속 떨어지는 가운데 반도체 ...</td>\n",
       "      <td>NaN</td>\n",
       "      <td>2019-03-31T21:27:00.000000</td>\n",
       "      <td>서울신문</td>\n",
       "      <td>economy</td>\n",
       "      <td>반도체 가동률 넉 달 연속 하락</td>\n",
       "    </tr>\n",
       "    <tr>\n",
       "      <th>2</th>\n",
       "      <td>3</td>\n",
       "      <td>2월 지수 43개월 만에 최저\\n\\n반도체 수출 감소에 이어 반도체 제조업 가동률도...</td>\n",
       "      <td>NaN</td>\n",
       "      <td>2019-03-31T20:36:00.000000</td>\n",
       "      <td>세계일보</td>\n",
       "      <td>economy</td>\n",
       "      <td>반도체 제조업 가동률 4개월 연속 하락</td>\n",
       "    </tr>\n",
       "  </tbody>\n",
       "</table>\n",
       "</div>"
      ],
      "text/plain": [
       "   Index                                            content content_url  \\\n",
       "0      1  충북지역 기업 체감 경기가 바닥에서는 벗어났지만 여전히 기준치에는 한참 못미치고 있...         NaN   \n",
       "1      2  43개월 만에 최저치… 먹구름 장기화\\n반도체 가격이 계속 떨어지는 가운데 반도체 ...         NaN   \n",
       "2      3  2월 지수 43개월 만에 최저\\n\\n반도체 수출 감소에 이어 반도체 제조업 가동률도...         NaN   \n",
       "\n",
       "                 created_date publisher  section                         title  \n",
       "0  2019-03-31T23:11:00.000000      노컷뉴스  society  충북 기업경기 반전?...67로 기준치 한참 못미쳐  \n",
       "1  2019-03-31T21:27:00.000000      서울신문  economy             반도체 가동률 넉 달 연속 하락  \n",
       "2  2019-03-31T20:36:00.000000      세계일보  economy         반도체 제조업 가동률 4개월 연속 하락  "
      ]
     },
     "execution_count": 6,
     "metadata": {},
     "output_type": "execute_result"
    }
   ],
   "source": [
    "# 데이터 확인\n",
    "\n",
    "print(data.columns)\n",
    "data.head(3)"
   ]
  },
  {
   "cell_type": "code",
   "execution_count": 7,
   "metadata": {},
   "outputs": [
    {
     "name": "stdout",
     "output_type": "stream",
     "text": [
      "2019-03-31T23:11:00.000000\n",
      "2010-04-01T01:12:00.000000\n"
     ]
    }
   ],
   "source": [
    "# 오래된 날짜와 최근 날짜 확인 \n",
    "\n",
    "print(data['created_date'].max())\n",
    "print(data['created_date'].min())"
   ]
  },
  {
   "cell_type": "code",
   "execution_count": 8,
   "metadata": {},
   "outputs": [],
   "source": [
    "# GDP 파일 로드\n",
    "\n",
    "data_GDP=pd.read_excel('D:\\\\toy\\\\data\\\\GDP_domestic_js.xls','Sheet2')"
   ]
  },
  {
   "cell_type": "code",
   "execution_count": 9,
   "metadata": {},
   "outputs": [
    {
     "name": "stdout",
     "output_type": "stream",
     "text": [
      "Index(['분기', '국내총생산(명목GDP)', '경제성장률(실질GDP성장률)'], dtype='object')\n"
     ]
    },
    {
     "data": {
      "text/html": [
       "<div>\n",
       "<style scoped>\n",
       "    .dataframe tbody tr th:only-of-type {\n",
       "        vertical-align: middle;\n",
       "    }\n",
       "\n",
       "    .dataframe tbody tr th {\n",
       "        vertical-align: top;\n",
       "    }\n",
       "\n",
       "    .dataframe thead th {\n",
       "        text-align: right;\n",
       "    }\n",
       "</style>\n",
       "<table border=\"1\" class=\"dataframe\">\n",
       "  <thead>\n",
       "    <tr style=\"text-align: right;\">\n",
       "      <th></th>\n",
       "      <th>분기</th>\n",
       "      <th>국내총생산(명목GDP)</th>\n",
       "      <th>경제성장률(실질GDP성장률)</th>\n",
       "    </tr>\n",
       "  </thead>\n",
       "  <tbody>\n",
       "    <tr>\n",
       "      <th>0</th>\n",
       "      <td>2010Q1</td>\n",
       "      <td>307,738</td>\n",
       "      <td>7.3</td>\n",
       "    </tr>\n",
       "    <tr>\n",
       "      <th>1</th>\n",
       "      <td>2010Q2</td>\n",
       "      <td>329,481</td>\n",
       "      <td>7.9</td>\n",
       "    </tr>\n",
       "    <tr>\n",
       "      <th>2</th>\n",
       "      <td>2010Q3</td>\n",
       "      <td>334,834</td>\n",
       "      <td>5.8</td>\n",
       "    </tr>\n",
       "  </tbody>\n",
       "</table>\n",
       "</div>"
      ],
      "text/plain": [
       "       분기 국내총생산(명목GDP)  경제성장률(실질GDP성장률)\n",
       "0  2010Q1      307,738              7.3\n",
       "1  2010Q2      329,481              7.9\n",
       "2  2010Q3      334,834              5.8"
      ]
     },
     "execution_count": 9,
     "metadata": {},
     "output_type": "execute_result"
    }
   ],
   "source": [
    "# 데이터 확인\n",
    "\n",
    "print(data_GDP.columns)\n",
    "data_GDP.head(3)"
   ]
  },
  {
   "cell_type": "code",
   "execution_count": 18,
   "metadata": {
    "scrolled": true
   },
   "outputs": [
    {
     "name": "stdout",
     "output_type": "stream",
     "text": [
      "        분기    명목GDP  실질GDP\n",
      "0   2010Q1  307,738    7.3\n",
      "1   2010Q2  329,481    7.9\n",
      "2   2010Q3  334,834    5.8\n",
      "3   2010Q4  350,559    6.3\n",
      "4   2011Q1  328,096    5.4\n",
      "5   2011Q2  343,679    3.8\n",
      "6   2011Q3  349,987    3.1\n",
      "7   2011Q4  367,175    2.6\n",
      "8   2012Q1  344,575    2.4\n",
      "9   2012Q2  358,276    2.4\n",
      "10  2012Q3  361,834    2.3\n",
      "11  2012Q4  375,427    2.5\n",
      "12  2013Q1  355,385    2.3\n",
      "13  2013Q2  373,097    2.9\n",
      "14  2013Q3  379,887    3.5\n",
      "15  2013Q4  392,451    3.9\n",
      "16  2014Q1  373,560    3.8\n",
      "17  2014Q2  388,567    3.4\n",
      "18  2014Q3  393,425    3.1\n",
      "19  2014Q4  407,377    2.6\n",
      "20  2015Q1  394,262    2.5\n",
      "21  2015Q2  411,337    2.0\n",
      "22  2015Q3  420,850    3.3\n",
      "23  2015Q4  431,573    3.4\n",
      "24  2016Q1  413,322    2.8\n",
      "25  2016Q2  434,543    3.6\n",
      "26  2016Q3  439,402    2.8\n",
      "27  2016Q4  453,513    2.7\n",
      "28  2017Q1  433,537    3.1\n",
      "29  2017Q2  453,891    2.8\n",
      "30  2017Q3  473,661    2.9\n",
      "31  2017Q4  474,609    2.8\n",
      "32  2018Q1  449,511    2.8\n",
      "33  2018Q2  471,630    2.9\n",
      "34  2018Q3  484,492    2.1\n",
      "35  2018Q4  487,865    2.9\n",
      "36  2019Q1  454,700    1.7\n",
      "37  2019Q2  477,979    2.0\n",
      "38  2019Q3  486,374    2.0\n",
      "39  2019Q4  494,911    2.3\n"
     ]
    }
   ],
   "source": [
    "# 컬럼명 변경\n",
    "\n",
    "data_GDP.rename(columns={'분기':'분기','국내총생산(명목GDP)':'명목GDP','경제성장률(실질GDP성장률)':'실질GDP'},inplace=True)\n",
    "print(data_GDP)"
   ]
  },
  {
   "cell_type": "code",
   "execution_count": 19,
   "metadata": {},
   "outputs": [
    {
     "data": {
      "text/plain": [
       "0    2019Q1\n",
       "1    2019Q1\n",
       "2    2019Q1\n",
       "3    2019Q1\n",
       "4    2019Q1\n",
       "Name: 분기, dtype: period[Q-DEC]"
      ]
     },
     "execution_count": 19,
     "metadata": {},
     "output_type": "execute_result"
    }
   ],
   "source": [
    "# 분기 컬럼 생성\n",
    "\n",
    "data['분기']=pd.to_datetime(data['created_date'].values, format='%Y-%m').astype('period[Q]')\n",
    "data['분기'].head(5)"
   ]
  },
  {
   "cell_type": "code",
   "execution_count": 20,
   "metadata": {},
   "outputs": [
    {
     "name": "stdout",
     "output_type": "stream",
     "text": [
      "<class 'pandas.core.frame.DataFrame'>\n",
      "RangeIndex: 409928 entries, 0 to 409927\n",
      "Data columns (total 8 columns):\n",
      " #   Column        Non-Null Count   Dtype        \n",
      "---  ------        --------------   -----        \n",
      " 0   Index         409928 non-null  int64        \n",
      " 1   content       409928 non-null  object       \n",
      " 2   content_url   65511 non-null   object       \n",
      " 3   created_date  409928 non-null  object       \n",
      " 4   publisher     409928 non-null  object       \n",
      " 5   section       409928 non-null  object       \n",
      " 6   title         409928 non-null  object       \n",
      " 7   분기            409928 non-null  period[Q-DEC]\n",
      "dtypes: int64(1), object(6), period[Q-DEC](1)\n",
      "memory usage: 25.0+ MB\n"
     ]
    }
   ],
   "source": [
    "data.info()"
   ]
  },
  {
   "cell_type": "code",
   "execution_count": 21,
   "metadata": {},
   "outputs": [
    {
     "name": "stdout",
     "output_type": "stream",
     "text": [
      "[Period('2010Q1', 'Q-DEC') Period('2010Q2', 'Q-DEC')\n",
      " Period('2010Q3', 'Q-DEC') Period('2010Q4', 'Q-DEC')\n",
      " Period('2011Q1', 'Q-DEC') Period('2011Q2', 'Q-DEC')\n",
      " Period('2011Q3', 'Q-DEC') Period('2011Q4', 'Q-DEC')\n",
      " Period('2012Q1', 'Q-DEC') Period('2012Q2', 'Q-DEC')\n",
      " Period('2012Q3', 'Q-DEC') Period('2012Q4', 'Q-DEC')\n",
      " Period('2013Q1', 'Q-DEC') Period('2013Q2', 'Q-DEC')\n",
      " Period('2013Q3', 'Q-DEC') Period('2013Q4', 'Q-DEC')\n",
      " Period('2014Q1', 'Q-DEC') Period('2014Q2', 'Q-DEC')\n",
      " Period('2014Q3', 'Q-DEC') Period('2014Q4', 'Q-DEC')\n",
      " Period('2015Q1', 'Q-DEC') Period('2015Q2', 'Q-DEC')\n",
      " Period('2015Q3', 'Q-DEC') Period('2015Q4', 'Q-DEC')\n",
      " Period('2016Q1', 'Q-DEC') Period('2016Q2', 'Q-DEC')\n",
      " Period('2016Q3', 'Q-DEC') Period('2016Q4', 'Q-DEC')\n",
      " Period('2017Q1', 'Q-DEC') Period('2017Q2', 'Q-DEC')\n",
      " Period('2017Q3', 'Q-DEC') Period('2017Q4', 'Q-DEC')\n",
      " Period('2018Q1', 'Q-DEC') Period('2018Q2', 'Q-DEC')\n",
      " Period('2018Q3', 'Q-DEC') Period('2018Q4', 'Q-DEC')\n",
      " Period('2019Q1', 'Q-DEC') Period('2019Q2', 'Q-DEC')\n",
      " Period('2019Q3', 'Q-DEC') Period('2019Q4', 'Q-DEC')]\n",
      "[Period('2019Q1', 'Q-DEC') Period('2019Q1', 'Q-DEC')\n",
      " Period('2019Q1', 'Q-DEC') ... Period('2010Q2', 'Q-DEC')\n",
      " Period('2010Q2', 'Q-DEC') Period('2010Q2', 'Q-DEC')]\n"
     ]
    }
   ],
   "source": [
    "# values값 확인\n",
    "\n",
    "print(data_GDP['분기'].values)\n",
    "print(data['분기'].values)"
   ]
  },
  {
   "cell_type": "code",
   "execution_count": 22,
   "metadata": {
    "scrolled": true
   },
   "outputs": [
    {
     "name": "stdout",
     "output_type": "stream",
     "text": [
      "<class 'pandas.core.frame.DataFrame'>\n",
      "RangeIndex: 40 entries, 0 to 39\n",
      "Data columns (total 3 columns):\n",
      " #   Column  Non-Null Count  Dtype        \n",
      "---  ------  --------------  -----        \n",
      " 0   분기      40 non-null     period[Q-DEC]\n",
      " 1   명목GDP   40 non-null     object       \n",
      " 2   실질GDP   40 non-null     float64      \n",
      "dtypes: float64(1), object(1), period[Q-DEC](1)\n",
      "memory usage: 1.1+ KB\n",
      "None\n",
      "[Period('2010Q1', 'Q-DEC') Period('2010Q2', 'Q-DEC')\n",
      " Period('2010Q3', 'Q-DEC') Period('2010Q4', 'Q-DEC')\n",
      " Period('2011Q1', 'Q-DEC') Period('2011Q2', 'Q-DEC')\n",
      " Period('2011Q3', 'Q-DEC') Period('2011Q4', 'Q-DEC')\n",
      " Period('2012Q1', 'Q-DEC') Period('2012Q2', 'Q-DEC')\n",
      " Period('2012Q3', 'Q-DEC') Period('2012Q4', 'Q-DEC')\n",
      " Period('2013Q1', 'Q-DEC') Period('2013Q2', 'Q-DEC')\n",
      " Period('2013Q3', 'Q-DEC') Period('2013Q4', 'Q-DEC')\n",
      " Period('2014Q1', 'Q-DEC') Period('2014Q2', 'Q-DEC')\n",
      " Period('2014Q3', 'Q-DEC') Period('2014Q4', 'Q-DEC')\n",
      " Period('2015Q1', 'Q-DEC') Period('2015Q2', 'Q-DEC')\n",
      " Period('2015Q3', 'Q-DEC') Period('2015Q4', 'Q-DEC')\n",
      " Period('2016Q1', 'Q-DEC') Period('2016Q2', 'Q-DEC')\n",
      " Period('2016Q3', 'Q-DEC') Period('2016Q4', 'Q-DEC')\n",
      " Period('2017Q1', 'Q-DEC') Period('2017Q2', 'Q-DEC')\n",
      " Period('2017Q3', 'Q-DEC') Period('2017Q4', 'Q-DEC')\n",
      " Period('2018Q1', 'Q-DEC') Period('2018Q2', 'Q-DEC')\n",
      " Period('2018Q3', 'Q-DEC') Period('2018Q4', 'Q-DEC')\n",
      " Period('2019Q1', 'Q-DEC') Period('2019Q2', 'Q-DEC')\n",
      " Period('2019Q3', 'Q-DEC') Period('2019Q4', 'Q-DEC')]\n"
     ]
    }
   ],
   "source": [
    "# 타입 맞춰주기\n",
    "\n",
    "data_GDP['분기']=data_GDP['분기'].astype('period[Q]')\n",
    "\n",
    "print(data_GDP.info())\n",
    "print(data_GDP['분기'].values)"
   ]
  },
  {
   "cell_type": "code",
   "execution_count": 23,
   "metadata": {},
   "outputs": [
    {
     "name": "stdout",
     "output_type": "stream",
     "text": [
      "(409928, 10)\n",
      "Index(['Index', 'content', 'content_url', 'created_date', 'publisher',\n",
      "       'section', 'title', '분기', '명목GDP', '실질GDP'],\n",
      "      dtype='object')\n"
     ]
    }
   ],
   "source": [
    "# 조인\n",
    "\n",
    "result_GDP=pd.merge(data,data_GDP)\n",
    "\n",
    "print(result_GDP.shape)\n",
    "print(result_GDP.columns)"
   ]
  },
  {
   "cell_type": "code",
   "execution_count": 24,
   "metadata": {},
   "outputs": [
    {
     "data": {
      "text/plain": [
       "Index(['Index', 'content', 'content_url', 'created_date', 'publisher',\n",
       "       'section', 'title', '분기', '명목GDP', '실질GDP'],\n",
       "      dtype='object')"
      ]
     },
     "execution_count": 24,
     "metadata": {},
     "output_type": "execute_result"
    }
   ],
   "source": [
    "result_GDP.columns"
   ]
  },
  {
   "cell_type": "code",
   "execution_count": 25,
   "metadata": {},
   "outputs": [
    {
     "data": {
      "text/html": [
       "<div>\n",
       "<style scoped>\n",
       "    .dataframe tbody tr th:only-of-type {\n",
       "        vertical-align: middle;\n",
       "    }\n",
       "\n",
       "    .dataframe tbody tr th {\n",
       "        vertical-align: top;\n",
       "    }\n",
       "\n",
       "    .dataframe thead th {\n",
       "        text-align: right;\n",
       "    }\n",
       "</style>\n",
       "<table border=\"1\" class=\"dataframe\">\n",
       "  <thead>\n",
       "    <tr style=\"text-align: right;\">\n",
       "      <th></th>\n",
       "      <th>created_date</th>\n",
       "      <th>분기</th>\n",
       "      <th>실질GDP</th>\n",
       "    </tr>\n",
       "  </thead>\n",
       "  <tbody>\n",
       "    <tr>\n",
       "      <th>0</th>\n",
       "      <td>2019-03-31T23:11:00.000000</td>\n",
       "      <td>2019Q1</td>\n",
       "      <td>1.7</td>\n",
       "    </tr>\n",
       "    <tr>\n",
       "      <th>1</th>\n",
       "      <td>2019-03-31T21:27:00.000000</td>\n",
       "      <td>2019Q1</td>\n",
       "      <td>1.7</td>\n",
       "    </tr>\n",
       "    <tr>\n",
       "      <th>2</th>\n",
       "      <td>2019-03-31T20:36:00.000000</td>\n",
       "      <td>2019Q1</td>\n",
       "      <td>1.7</td>\n",
       "    </tr>\n",
       "    <tr>\n",
       "      <th>3</th>\n",
       "      <td>2019-03-31T20:30:00.000000</td>\n",
       "      <td>2019Q1</td>\n",
       "      <td>1.7</td>\n",
       "    </tr>\n",
       "    <tr>\n",
       "      <th>4</th>\n",
       "      <td>2019-03-31T19:29:00.000000</td>\n",
       "      <td>2019Q1</td>\n",
       "      <td>1.7</td>\n",
       "    </tr>\n",
       "    <tr>\n",
       "      <th>...</th>\n",
       "      <td>...</td>\n",
       "      <td>...</td>\n",
       "      <td>...</td>\n",
       "    </tr>\n",
       "    <tr>\n",
       "      <th>409923</th>\n",
       "      <td>2010-04-01T03:32:00.000000</td>\n",
       "      <td>2010Q2</td>\n",
       "      <td>7.9</td>\n",
       "    </tr>\n",
       "    <tr>\n",
       "      <th>409924</th>\n",
       "      <td>2010-04-01T03:32:00.000000</td>\n",
       "      <td>2010Q2</td>\n",
       "      <td>7.9</td>\n",
       "    </tr>\n",
       "    <tr>\n",
       "      <th>409925</th>\n",
       "      <td>2010-04-01T03:18:00.000000</td>\n",
       "      <td>2010Q2</td>\n",
       "      <td>7.9</td>\n",
       "    </tr>\n",
       "    <tr>\n",
       "      <th>409926</th>\n",
       "      <td>2010-04-01T02:36:00.000000</td>\n",
       "      <td>2010Q2</td>\n",
       "      <td>7.9</td>\n",
       "    </tr>\n",
       "    <tr>\n",
       "      <th>409927</th>\n",
       "      <td>2010-04-01T01:12:00.000000</td>\n",
       "      <td>2010Q2</td>\n",
       "      <td>7.9</td>\n",
       "    </tr>\n",
       "  </tbody>\n",
       "</table>\n",
       "<p>409928 rows × 3 columns</p>\n",
       "</div>"
      ],
      "text/plain": [
       "                      created_date      분기  실질GDP\n",
       "0       2019-03-31T23:11:00.000000  2019Q1    1.7\n",
       "1       2019-03-31T21:27:00.000000  2019Q1    1.7\n",
       "2       2019-03-31T20:36:00.000000  2019Q1    1.7\n",
       "3       2019-03-31T20:30:00.000000  2019Q1    1.7\n",
       "4       2019-03-31T19:29:00.000000  2019Q1    1.7\n",
       "...                            ...     ...    ...\n",
       "409923  2010-04-01T03:32:00.000000  2010Q2    7.9\n",
       "409924  2010-04-01T03:32:00.000000  2010Q2    7.9\n",
       "409925  2010-04-01T03:18:00.000000  2010Q2    7.9\n",
       "409926  2010-04-01T02:36:00.000000  2010Q2    7.9\n",
       "409927  2010-04-01T01:12:00.000000  2010Q2    7.9\n",
       "\n",
       "[409928 rows x 3 columns]"
      ]
     },
     "execution_count": 25,
     "metadata": {},
     "output_type": "execute_result"
    }
   ],
   "source": [
    "# 확인\n",
    "\n",
    "result_GDP[['created_date','분기','실질GDP']]"
   ]
  },
  {
   "cell_type": "code",
   "execution_count": 27,
   "metadata": {},
   "outputs": [],
   "source": [
    "# 명목 GDP 삭제\n",
    "\n",
    "del result_GDP['명목GDP']"
   ]
  },
  {
   "cell_type": "code",
   "execution_count": 30,
   "metadata": {},
   "outputs": [],
   "source": [
    "del result_GDP['content_url']"
   ]
  },
  {
   "cell_type": "code",
   "execution_count": 26,
   "metadata": {},
   "outputs": [],
   "source": [
    "# 전체 파일 엑셀로 저장\n",
    "\n",
    "#result_GDP.to_excel('D:\\\\toy\\\\data\\\\\\\\online_news_f.xlsx',index=False)"
   ]
  },
  {
   "cell_type": "code",
   "execution_count": 31,
   "metadata": {},
   "outputs": [
    {
     "data": {
      "text/plain": [
       "Index(['Index', 'content', 'created_date', 'publisher', 'section', 'title',\n",
       "       '분기', '실질GDP'],\n",
       "      dtype='object')"
      ]
     },
     "execution_count": 31,
     "metadata": {},
     "output_type": "execute_result"
    }
   ],
   "source": [
    "result_GDP.columns"
   ]
  },
  {
   "cell_type": "code",
   "execution_count": 32,
   "metadata": {},
   "outputs": [
    {
     "data": {
      "text/html": [
       "<div>\n",
       "<style scoped>\n",
       "    .dataframe tbody tr th:only-of-type {\n",
       "        vertical-align: middle;\n",
       "    }\n",
       "\n",
       "    .dataframe tbody tr th {\n",
       "        vertical-align: top;\n",
       "    }\n",
       "\n",
       "    .dataframe thead th {\n",
       "        text-align: right;\n",
       "    }\n",
       "</style>\n",
       "<table border=\"1\" class=\"dataframe\">\n",
       "  <thead>\n",
       "    <tr style=\"text-align: right;\">\n",
       "      <th></th>\n",
       "      <th>Index</th>\n",
       "      <th>content</th>\n",
       "      <th>created_date</th>\n",
       "      <th>publisher</th>\n",
       "      <th>section</th>\n",
       "      <th>title</th>\n",
       "      <th>분기</th>\n",
       "      <th>실질GDP</th>\n",
       "    </tr>\n",
       "  </thead>\n",
       "  <tbody>\n",
       "    <tr>\n",
       "      <th>112548</th>\n",
       "      <td>112549</td>\n",
       "      <td>퇴진운동 2라운드, “적폐 청산까지 이뤄내야”\\n\\n김한주 기자\\n31일, 10차에...</td>\n",
       "      <td>2016-12-31T23:45:00.000000</td>\n",
       "      <td>참세상</td>\n",
       "      <td>society</td>\n",
       "      <td>천만 촛불 돌파… “세상, 탄핵으로 해결 될까요”</td>\n",
       "      <td>2016Q4</td>\n",
       "      <td>2.7</td>\n",
       "    </tr>\n",
       "    <tr>\n",
       "      <th>112549</th>\n",
       "      <td>112550</td>\n",
       "      <td>엔비디아가 2016년 선보인 파스칼 아키텍처 기반 고성능 그래픽카드 GTX 1080...</td>\n",
       "      <td>2016-12-31T22:29:00.000000</td>\n",
       "      <td>스포츠서울</td>\n",
       "      <td>tech</td>\n",
       "      <td>[아듀 2016] 2016 PC 부품 이슈 총정리 ②-고성능 그래팍카드 출시와 SS...</td>\n",
       "      <td>2016Q4</td>\n",
       "      <td>2.7</td>\n",
       "    </tr>\n",
       "    <tr>\n",
       "      <th>112550</th>\n",
       "      <td>112551</td>\n",
       "      <td>중국 외교부에서 사드(THAAD·고고도 미사일 방어체계) 문제를 담당해 온 천하이(...</td>\n",
       "      <td>2016-12-31T20:28:00.000000</td>\n",
       "      <td>조선일보</td>\n",
       "      <td>politics</td>\n",
       "      <td>[TV조선]中 천하이의 무례한 방한…'외교 장난'에 대응책 고심</td>\n",
       "      <td>2016Q4</td>\n",
       "      <td>2.7</td>\n",
       "    </tr>\n",
       "    <tr>\n",
       "      <th>112551</th>\n",
       "      <td>112552</td>\n",
       "      <td>얼마 전 중국의 부국장급 외교관이 우리나라 대기업 고위 관계자와 유력 정치인들을 만...</td>\n",
       "      <td>2016-12-31T19:43:00.000000</td>\n",
       "      <td>TV조선</td>\n",
       "      <td>world</td>\n",
       "      <td>中 천하이의 무례한 방한…'외교 장난'에 대응책 고심</td>\n",
       "      <td>2016Q4</td>\n",
       "      <td>2.7</td>\n",
       "    </tr>\n",
       "    <tr>\n",
       "      <th>112552</th>\n",
       "      <td>112553</td>\n",
       "      <td>먼저 새밑에도 분주한 수출현장으로 가봅니다. 여&gt;모두가 한 해를 정리하며 쉬는 동안...</td>\n",
       "      <td>2016-12-31T19:09:00.000000</td>\n",
       "      <td>TV조선</td>\n",
       "      <td>economy</td>\n",
       "      <td>15분 마다 이륙…터미널은 비지땀</td>\n",
       "      <td>2016Q4</td>\n",
       "      <td>2.7</td>\n",
       "    </tr>\n",
       "  </tbody>\n",
       "</table>\n",
       "</div>"
      ],
      "text/plain": [
       "         Index                                            content  \\\n",
       "112548  112549  퇴진운동 2라운드, “적폐 청산까지 이뤄내야”\\n\\n김한주 기자\\n31일, 10차에...   \n",
       "112549  112550  엔비디아가 2016년 선보인 파스칼 아키텍처 기반 고성능 그래픽카드 GTX 1080...   \n",
       "112550  112551  중국 외교부에서 사드(THAAD·고고도 미사일 방어체계) 문제를 담당해 온 천하이(...   \n",
       "112551  112552  얼마 전 중국의 부국장급 외교관이 우리나라 대기업 고위 관계자와 유력 정치인들을 만...   \n",
       "112552  112553  먼저 새밑에도 분주한 수출현장으로 가봅니다. 여>모두가 한 해를 정리하며 쉬는 동안...   \n",
       "\n",
       "                      created_date publisher   section  \\\n",
       "112548  2016-12-31T23:45:00.000000       참세상   society   \n",
       "112549  2016-12-31T22:29:00.000000     스포츠서울      tech   \n",
       "112550  2016-12-31T20:28:00.000000      조선일보  politics   \n",
       "112551  2016-12-31T19:43:00.000000      TV조선     world   \n",
       "112552  2016-12-31T19:09:00.000000      TV조선   economy   \n",
       "\n",
       "                                                    title      분기  실질GDP  \n",
       "112548                        천만 촛불 돌파… “세상, 탄핵으로 해결 될까요”  2016Q4    2.7  \n",
       "112549  [아듀 2016] 2016 PC 부품 이슈 총정리 ②-고성능 그래팍카드 출시와 SS...  2016Q4    2.7  \n",
       "112550                [TV조선]中 천하이의 무례한 방한…'외교 장난'에 대응책 고심  2016Q4    2.7  \n",
       "112551                      中 천하이의 무례한 방한…'외교 장난'에 대응책 고심  2016Q4    2.7  \n",
       "112552                                 15분 마다 이륙…터미널은 비지땀  2016Q4    2.7  "
      ]
     },
     "execution_count": 32,
     "metadata": {},
     "output_type": "execute_result"
    }
   ],
   "source": [
    "# 2015~2016년의 데이터만 추출\n",
    "\n",
    "test_data=result_GDP[(result_GDP['created_date']>='2015-01-01') & (result_GDP['created_date']<'2017-01-01')]\n",
    "\n",
    "test_data.head()"
   ]
  },
  {
   "cell_type": "code",
   "execution_count": 35,
   "metadata": {
    "scrolled": false
   },
   "outputs": [
    {
     "name": "stdout",
     "output_type": "stream",
     "text": [
      "2016-12-31T23:45:00.000000\n",
      "2015-01-01T02:22:00.000000\n"
     ]
    }
   ],
   "source": [
    "# 확인\n",
    "\n",
    "print(test_data['created_date'].max())\n",
    "print(test_data['created_date'].min())"
   ]
  },
  {
   "cell_type": "code",
   "execution_count": 38,
   "metadata": {},
   "outputs": [
    {
     "data": {
      "text/plain": [
       "Index(['Index', 'content', 'created_date', 'publisher', 'section', 'title',\n",
       "       '분기', '실질GDP'],\n",
       "      dtype='object')"
      ]
     },
     "execution_count": 38,
     "metadata": {},
     "output_type": "execute_result"
    }
   ],
   "source": [
    "test_data.columns"
   ]
  },
  {
   "cell_type": "code",
   "execution_count": 37,
   "metadata": {},
   "outputs": [
    {
     "data": {
      "text/html": [
       "<div>\n",
       "<style scoped>\n",
       "    .dataframe tbody tr th:only-of-type {\n",
       "        vertical-align: middle;\n",
       "    }\n",
       "\n",
       "    .dataframe tbody tr th {\n",
       "        vertical-align: top;\n",
       "    }\n",
       "\n",
       "    .dataframe thead th {\n",
       "        text-align: right;\n",
       "    }\n",
       "</style>\n",
       "<table border=\"1\" class=\"dataframe\">\n",
       "  <thead>\n",
       "    <tr style=\"text-align: right;\">\n",
       "      <th></th>\n",
       "      <th>Index</th>\n",
       "      <th>content</th>\n",
       "      <th>created_date</th>\n",
       "      <th>publisher</th>\n",
       "      <th>section</th>\n",
       "      <th>title</th>\n",
       "      <th>분기</th>\n",
       "      <th>실질GDP</th>\n",
       "    </tr>\n",
       "  </thead>\n",
       "  <tbody>\n",
       "    <tr>\n",
       "      <th>112548</th>\n",
       "      <td>112549</td>\n",
       "      <td>퇴진운동 2라운드, “적폐 청산까지 이뤄내야”\\n\\n김한주 기자\\n31일, 10차에...</td>\n",
       "      <td>2016-12-31T23:45:00.000000</td>\n",
       "      <td>참세상</td>\n",
       "      <td>society</td>\n",
       "      <td>천만 촛불 돌파… “세상, 탄핵으로 해결 될까요”</td>\n",
       "      <td>2016Q4</td>\n",
       "      <td>2.7</td>\n",
       "    </tr>\n",
       "    <tr>\n",
       "      <th>112549</th>\n",
       "      <td>112550</td>\n",
       "      <td>엔비디아가 2016년 선보인 파스칼 아키텍처 기반 고성능 그래픽카드 GTX 1080...</td>\n",
       "      <td>2016-12-31T22:29:00.000000</td>\n",
       "      <td>스포츠서울</td>\n",
       "      <td>tech</td>\n",
       "      <td>[아듀 2016] 2016 PC 부품 이슈 총정리 ②-고성능 그래팍카드 출시와 SS...</td>\n",
       "      <td>2016Q4</td>\n",
       "      <td>2.7</td>\n",
       "    </tr>\n",
       "    <tr>\n",
       "      <th>112550</th>\n",
       "      <td>112551</td>\n",
       "      <td>중국 외교부에서 사드(THAAD·고고도 미사일 방어체계) 문제를 담당해 온 천하이(...</td>\n",
       "      <td>2016-12-31T20:28:00.000000</td>\n",
       "      <td>조선일보</td>\n",
       "      <td>politics</td>\n",
       "      <td>[TV조선]中 천하이의 무례한 방한…'외교 장난'에 대응책 고심</td>\n",
       "      <td>2016Q4</td>\n",
       "      <td>2.7</td>\n",
       "    </tr>\n",
       "    <tr>\n",
       "      <th>112551</th>\n",
       "      <td>112552</td>\n",
       "      <td>얼마 전 중국의 부국장급 외교관이 우리나라 대기업 고위 관계자와 유력 정치인들을 만...</td>\n",
       "      <td>2016-12-31T19:43:00.000000</td>\n",
       "      <td>TV조선</td>\n",
       "      <td>world</td>\n",
       "      <td>中 천하이의 무례한 방한…'외교 장난'에 대응책 고심</td>\n",
       "      <td>2016Q4</td>\n",
       "      <td>2.7</td>\n",
       "    </tr>\n",
       "    <tr>\n",
       "      <th>112552</th>\n",
       "      <td>112553</td>\n",
       "      <td>먼저 새밑에도 분주한 수출현장으로 가봅니다. 여&gt;모두가 한 해를 정리하며 쉬는 동안...</td>\n",
       "      <td>2016-12-31T19:09:00.000000</td>\n",
       "      <td>TV조선</td>\n",
       "      <td>economy</td>\n",
       "      <td>15분 마다 이륙…터미널은 비지땀</td>\n",
       "      <td>2016Q4</td>\n",
       "      <td>2.7</td>\n",
       "    </tr>\n",
       "  </tbody>\n",
       "</table>\n",
       "</div>"
      ],
      "text/plain": [
       "         Index                                            content  \\\n",
       "112548  112549  퇴진운동 2라운드, “적폐 청산까지 이뤄내야”\\n\\n김한주 기자\\n31일, 10차에...   \n",
       "112549  112550  엔비디아가 2016년 선보인 파스칼 아키텍처 기반 고성능 그래픽카드 GTX 1080...   \n",
       "112550  112551  중국 외교부에서 사드(THAAD·고고도 미사일 방어체계) 문제를 담당해 온 천하이(...   \n",
       "112551  112552  얼마 전 중국의 부국장급 외교관이 우리나라 대기업 고위 관계자와 유력 정치인들을 만...   \n",
       "112552  112553  먼저 새밑에도 분주한 수출현장으로 가봅니다. 여>모두가 한 해를 정리하며 쉬는 동안...   \n",
       "\n",
       "                      created_date publisher   section  \\\n",
       "112548  2016-12-31T23:45:00.000000       참세상   society   \n",
       "112549  2016-12-31T22:29:00.000000     스포츠서울      tech   \n",
       "112550  2016-12-31T20:28:00.000000      조선일보  politics   \n",
       "112551  2016-12-31T19:43:00.000000      TV조선     world   \n",
       "112552  2016-12-31T19:09:00.000000      TV조선   economy   \n",
       "\n",
       "                                                    title      분기  실질GDP  \n",
       "112548                        천만 촛불 돌파… “세상, 탄핵으로 해결 될까요”  2016Q4    2.7  \n",
       "112549  [아듀 2016] 2016 PC 부품 이슈 총정리 ②-고성능 그래팍카드 출시와 SS...  2016Q4    2.7  \n",
       "112550                [TV조선]中 천하이의 무례한 방한…'외교 장난'에 대응책 고심  2016Q4    2.7  \n",
       "112551                      中 천하이의 무례한 방한…'외교 장난'에 대응책 고심  2016Q4    2.7  \n",
       "112552                                 15분 마다 이륙…터미널은 비지땀  2016Q4    2.7  "
      ]
     },
     "execution_count": 37,
     "metadata": {},
     "output_type": "execute_result"
    }
   ],
   "source": [
    "test_data.head()"
   ]
  },
  {
   "cell_type": "code",
   "execution_count": 36,
   "metadata": {},
   "outputs": [],
   "source": [
    "# 부분 파일 엑셀로 저장\n",
    "\n",
    "#test_data.to_excel('D:\\\\toy\\\\data\\\\online_news.xlsx',index=False)"
   ]
  },
  {
   "cell_type": "code",
   "execution_count": null,
   "metadata": {},
   "outputs": [],
   "source": []
  }
 ],
 "metadata": {
  "kernelspec": {
   "display_name": "Python 3",
   "language": "python",
   "name": "python3"
  },
  "language_info": {
   "codemirror_mode": {
    "name": "ipython",
    "version": 3
   },
   "file_extension": ".py",
   "mimetype": "text/x-python",
   "name": "python",
   "nbconvert_exporter": "python",
   "pygments_lexer": "ipython3",
   "version": "3.7.6"
  }
 },
 "nbformat": 4,
 "nbformat_minor": 2
}
