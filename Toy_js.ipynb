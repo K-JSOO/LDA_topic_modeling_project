{
 "cells": [
  {
   "cell_type": "code",
   "execution_count": 1,
   "metadata": {},
   "outputs": [],
   "source": [
    "import pandas as pd\n",
    "\n",
    "# 뉴스 파일 로드\n",
    "\n",
    "data=pd.read_excel('C:\\\\Users\\\\LENOVO\\\\online_news.xlsx')"
   ]
  },
  {
   "cell_type": "code",
   "execution_count": 48,
   "metadata": {},
   "outputs": [
    {
     "name": "stdout",
     "output_type": "stream",
     "text": [
      "Index(['content', 'created_date', 'publisher', 'section', 'uid', '분기'], dtype='object')\n"
     ]
    },
    {
     "data": {
      "text/html": [
       "<div>\n",
       "<style scoped>\n",
       "    .dataframe tbody tr th:only-of-type {\n",
       "        vertical-align: middle;\n",
       "    }\n",
       "\n",
       "    .dataframe tbody tr th {\n",
       "        vertical-align: top;\n",
       "    }\n",
       "\n",
       "    .dataframe thead th {\n",
       "        text-align: right;\n",
       "    }\n",
       "</style>\n",
       "<table border=\"1\" class=\"dataframe\">\n",
       "  <thead>\n",
       "    <tr style=\"text-align: right;\">\n",
       "      <th></th>\n",
       "      <th>content</th>\n",
       "      <th>created_date</th>\n",
       "      <th>publisher</th>\n",
       "      <th>section</th>\n",
       "      <th>uid</th>\n",
       "      <th>분기</th>\n",
       "    </tr>\n",
       "  </thead>\n",
       "  <tbody>\n",
       "    <tr>\n",
       "      <th>0</th>\n",
       "      <td>원익IPS는 삼성전자와 40억원 규모의 반도체 제조장비 공급계약을 체결했다고 4일 ...</td>\n",
       "      <td>2011-08-04T14:10:00.000000</td>\n",
       "      <td>머니투데이</td>\n",
       "      <td>economy</td>\n",
       "      <td>317831836816511104</td>\n",
       "      <td>2011Q3</td>\n",
       "    </tr>\n",
       "    <tr>\n",
       "      <th>1</th>\n",
       "      <td>태블릿PC 등 신제품 수출 확대 전망\\n\\n 정천기 기자 = 우리나라 수출이 올해에...</td>\n",
       "      <td>2010-12-27T11:00:00.000000</td>\n",
       "      <td>연합뉴스</td>\n",
       "      <td>economy</td>\n",
       "      <td>317564606514073600</td>\n",
       "      <td>2010Q4</td>\n",
       "    </tr>\n",
       "    <tr>\n",
       "      <th>2</th>\n",
       "      <td>삼성전자가 1차 협력사는 물론 2, 3차 협력사들까지 저리로 경영자금을 빌릴 수 있...</td>\n",
       "      <td>2010-08-16T11:00:00.000000</td>\n",
       "      <td>머니투데이</td>\n",
       "      <td>economy</td>\n",
       "      <td>317420579642806272</td>\n",
       "      <td>2010Q3</td>\n",
       "    </tr>\n",
       "  </tbody>\n",
       "</table>\n",
       "</div>"
      ],
      "text/plain": [
       "                                             content  \\\n",
       "0  원익IPS는 삼성전자와 40억원 규모의 반도체 제조장비 공급계약을 체결했다고 4일 ...   \n",
       "1  태블릿PC 등 신제품 수출 확대 전망\\n\\n 정천기 기자 = 우리나라 수출이 올해에...   \n",
       "2  삼성전자가 1차 협력사는 물론 2, 3차 협력사들까지 저리로 경영자금을 빌릴 수 있...   \n",
       "\n",
       "                 created_date publisher  section                 uid      분기  \n",
       "0  2011-08-04T14:10:00.000000     머니투데이  economy  317831836816511104  2011Q3  \n",
       "1  2010-12-27T11:00:00.000000      연합뉴스  economy  317564606514073600  2010Q4  \n",
       "2  2010-08-16T11:00:00.000000     머니투데이  economy  317420579642806272  2010Q3  "
      ]
     },
     "execution_count": 48,
     "metadata": {},
     "output_type": "execute_result"
    }
   ],
   "source": [
    "# 데이터 확인\n",
    "\n",
    "print(data.columns)\n",
    "data.head(3)"
   ]
  },
  {
   "cell_type": "code",
   "execution_count": 49,
   "metadata": {},
   "outputs": [
    {
     "name": "stdout",
     "output_type": "stream",
     "text": [
      "2019-03-31T23:11:00.000000\n",
      "2010-04-01T01:12:00.000000\n"
     ]
    }
   ],
   "source": [
    "# 오래된 날짜와 최근 날짜 확인 \n",
    "\n",
    "print(data['created_date'].max())\n",
    "print(data['created_date'].min())"
   ]
  },
  {
   "cell_type": "code",
   "execution_count": 50,
   "metadata": {},
   "outputs": [],
   "source": [
    "# GDP 파일 로드\n",
    "\n",
    "data_GDP=pd.read_excel('C:\\\\Users\\\\LENOVO\\\\GDP_domestic_js.xls','Sheet2')"
   ]
  },
  {
   "cell_type": "code",
   "execution_count": 51,
   "metadata": {},
   "outputs": [
    {
     "name": "stdout",
     "output_type": "stream",
     "text": [
      "Index(['분기', '국내총생산(명목GDP)', '경제성장률(실질GDP성장률)'], dtype='object')\n"
     ]
    },
    {
     "data": {
      "text/html": [
       "<div>\n",
       "<style scoped>\n",
       "    .dataframe tbody tr th:only-of-type {\n",
       "        vertical-align: middle;\n",
       "    }\n",
       "\n",
       "    .dataframe tbody tr th {\n",
       "        vertical-align: top;\n",
       "    }\n",
       "\n",
       "    .dataframe thead th {\n",
       "        text-align: right;\n",
       "    }\n",
       "</style>\n",
       "<table border=\"1\" class=\"dataframe\">\n",
       "  <thead>\n",
       "    <tr style=\"text-align: right;\">\n",
       "      <th></th>\n",
       "      <th>분기</th>\n",
       "      <th>국내총생산(명목GDP)</th>\n",
       "      <th>경제성장률(실질GDP성장률)</th>\n",
       "    </tr>\n",
       "  </thead>\n",
       "  <tbody>\n",
       "    <tr>\n",
       "      <th>0</th>\n",
       "      <td>2010Q1</td>\n",
       "      <td>307,738</td>\n",
       "      <td>7.3</td>\n",
       "    </tr>\n",
       "    <tr>\n",
       "      <th>1</th>\n",
       "      <td>2010Q2</td>\n",
       "      <td>329,481</td>\n",
       "      <td>7.9</td>\n",
       "    </tr>\n",
       "    <tr>\n",
       "      <th>2</th>\n",
       "      <td>2010Q3</td>\n",
       "      <td>334,834</td>\n",
       "      <td>5.8</td>\n",
       "    </tr>\n",
       "  </tbody>\n",
       "</table>\n",
       "</div>"
      ],
      "text/plain": [
       "       분기 국내총생산(명목GDP)  경제성장률(실질GDP성장률)\n",
       "0  2010Q1      307,738              7.3\n",
       "1  2010Q2      329,481              7.9\n",
       "2  2010Q3      334,834              5.8"
      ]
     },
     "execution_count": 51,
     "metadata": {},
     "output_type": "execute_result"
    }
   ],
   "source": [
    "# 데이터 확인\n",
    "\n",
    "print(data_GDP.columns)\n",
    "data_GDP.head(3)"
   ]
  },
  {
   "cell_type": "code",
   "execution_count": 52,
   "metadata": {},
   "outputs": [
    {
     "name": "stdout",
     "output_type": "stream",
     "text": [
      "        분기    명목GDP  실질GDP\n",
      "0   2010Q1  307,738    7.3\n",
      "1   2010Q2  329,481    7.9\n",
      "2   2010Q3  334,834    5.8\n",
      "3   2010Q4  350,559    6.3\n",
      "4   2011Q1  328,096    5.4\n",
      "5   2011Q2  343,679    3.8\n",
      "6   2011Q3  349,987    3.1\n",
      "7   2011Q4  367,175    2.6\n",
      "8   2012Q1  344,575    2.4\n",
      "9   2012Q2  358,276    2.4\n",
      "10  2012Q3  361,834    2.3\n",
      "11  2012Q4  375,427    2.5\n",
      "12  2013Q1  355,385    2.3\n",
      "13  2013Q2  373,097    2.9\n",
      "14  2013Q3  379,887    3.5\n",
      "15  2013Q4  392,451    3.9\n",
      "16  2014Q1  373,560    3.8\n",
      "17  2014Q2  388,567    3.4\n",
      "18  2014Q3  393,425    3.1\n",
      "19  2014Q4  407,377    2.6\n",
      "20  2015Q1  394,262    2.5\n",
      "21  2015Q2  411,337    2.0\n",
      "22  2015Q3  420,850    3.3\n",
      "23  2015Q4  431,573    3.4\n",
      "24  2016Q1  413,322    2.8\n",
      "25  2016Q2  434,543    3.6\n",
      "26  2016Q3  439,402    2.8\n",
      "27  2016Q4  453,513    2.7\n",
      "28  2017Q1  433,537    3.1\n",
      "29  2017Q2  453,891    2.8\n",
      "30  2017Q3  473,661    2.9\n",
      "31  2017Q4  474,609    2.8\n",
      "32  2018Q1  449,511    2.8\n",
      "33  2018Q2  471,630    2.9\n",
      "34  2018Q3  484,492    2.1\n",
      "35  2018Q4  487,865    2.9\n",
      "36  2019Q1  454,700    1.7\n",
      "37  2019Q2  477,979    2.0\n",
      "38  2019Q3  486,374    2.0\n",
      "39  2019Q4  494,911    2.3\n"
     ]
    }
   ],
   "source": [
    "# 컬럼명 변경\n",
    "\n",
    "data_GDP.rename(columns={'분기':'분기','국내총생산(명목GDP)':'명목GDP','경제성장률(실질GDP성장률)':'실질GDP'},inplace=True)\n",
    "print(data_GDP)"
   ]
  },
  {
   "cell_type": "code",
   "execution_count": 53,
   "metadata": {},
   "outputs": [
    {
     "data": {
      "text/plain": [
       "0    2011Q3\n",
       "1    2010Q4\n",
       "2    2010Q3\n",
       "3    2010Q2\n",
       "4    2010Q4\n",
       "Name: 분기, dtype: period[Q-DEC]"
      ]
     },
     "execution_count": 53,
     "metadata": {},
     "output_type": "execute_result"
    }
   ],
   "source": [
    "# 분기 컬럼 생성\n",
    "\n",
    "data['분기']=pd.to_datetime(data['created_date'].values, format='%Y-%m').astype('period[Q]')\n",
    "data['분기'].head(5)"
   ]
  },
  {
   "cell_type": "code",
   "execution_count": 54,
   "metadata": {},
   "outputs": [
    {
     "name": "stdout",
     "output_type": "stream",
     "text": [
      "['2010Q1' '2010Q2' '2010Q3' '2010Q4' '2011Q1' '2011Q2' '2011Q3' '2011Q4'\n",
      " '2012Q1' '2012Q2' '2012Q3' '2012Q4' '2013Q1' '2013Q2' '2013Q3' '2013Q4'\n",
      " '2014Q1' '2014Q2' '2014Q3' '2014Q4' '2015Q1' '2015Q2' '2015Q3' '2015Q4'\n",
      " '2016Q1' '2016Q2' '2016Q3' '2016Q4' '2017Q1' '2017Q2' '2017Q3' '2017Q4'\n",
      " '2018Q1' '2018Q2' '2018Q3' '2018Q4' '2019Q1' '2019Q2' '2019Q3' '2019Q4']\n",
      "[Period('2011Q3', 'Q-DEC') Period('2010Q4', 'Q-DEC')\n",
      " Period('2010Q3', 'Q-DEC') ... Period('2019Q1', 'Q-DEC')\n",
      " Period('2019Q1', 'Q-DEC') Period('2019Q1', 'Q-DEC')]\n"
     ]
    }
   ],
   "source": [
    "# values값 확인\n",
    "\n",
    "print(data_GDP['분기'].values)\n",
    "print(data['분기'].values)"
   ]
  },
  {
   "cell_type": "code",
   "execution_count": 55,
   "metadata": {},
   "outputs": [
    {
     "name": "stdout",
     "output_type": "stream",
     "text": [
      "<class 'pandas.core.frame.DataFrame'>\n",
      "RangeIndex: 40 entries, 0 to 39\n",
      "Data columns (total 3 columns):\n",
      " #   Column  Non-Null Count  Dtype        \n",
      "---  ------  --------------  -----        \n",
      " 0   분기      40 non-null     period[Q-DEC]\n",
      " 1   명목GDP   40 non-null     object       \n",
      " 2   실질GDP   40 non-null     float64      \n",
      "dtypes: float64(1), object(1), period[Q-DEC](1)\n",
      "memory usage: 1.1+ KB\n",
      "None\n",
      "[Period('2010Q1', 'Q-DEC') Period('2010Q2', 'Q-DEC')\n",
      " Period('2010Q3', 'Q-DEC') Period('2010Q4', 'Q-DEC')\n",
      " Period('2011Q1', 'Q-DEC') Period('2011Q2', 'Q-DEC')\n",
      " Period('2011Q3', 'Q-DEC') Period('2011Q4', 'Q-DEC')\n",
      " Period('2012Q1', 'Q-DEC') Period('2012Q2', 'Q-DEC')\n",
      " Period('2012Q3', 'Q-DEC') Period('2012Q4', 'Q-DEC')\n",
      " Period('2013Q1', 'Q-DEC') Period('2013Q2', 'Q-DEC')\n",
      " Period('2013Q3', 'Q-DEC') Period('2013Q4', 'Q-DEC')\n",
      " Period('2014Q1', 'Q-DEC') Period('2014Q2', 'Q-DEC')\n",
      " Period('2014Q3', 'Q-DEC') Period('2014Q4', 'Q-DEC')\n",
      " Period('2015Q1', 'Q-DEC') Period('2015Q2', 'Q-DEC')\n",
      " Period('2015Q3', 'Q-DEC') Period('2015Q4', 'Q-DEC')\n",
      " Period('2016Q1', 'Q-DEC') Period('2016Q2', 'Q-DEC')\n",
      " Period('2016Q3', 'Q-DEC') Period('2016Q4', 'Q-DEC')\n",
      " Period('2017Q1', 'Q-DEC') Period('2017Q2', 'Q-DEC')\n",
      " Period('2017Q3', 'Q-DEC') Period('2017Q4', 'Q-DEC')\n",
      " Period('2018Q1', 'Q-DEC') Period('2018Q2', 'Q-DEC')\n",
      " Period('2018Q3', 'Q-DEC') Period('2018Q4', 'Q-DEC')\n",
      " Period('2019Q1', 'Q-DEC') Period('2019Q2', 'Q-DEC')\n",
      " Period('2019Q3', 'Q-DEC') Period('2019Q4', 'Q-DEC')]\n"
     ]
    }
   ],
   "source": [
    "# 타입 맞춰주기\n",
    "\n",
    "data_GDP['분기']=data_GDP['분기'].astype('period[Q]')\n",
    "\n",
    "print(data_GDP.info())\n",
    "print(data_GDP['분기'].values)"
   ]
  },
  {
   "cell_type": "code",
   "execution_count": 56,
   "metadata": {},
   "outputs": [
    {
     "name": "stdout",
     "output_type": "stream",
     "text": [
      "(409928, 8)\n",
      "Index(['content', 'created_date', 'publisher', 'section', 'uid', '분기', '명목GDP',\n",
      "       '실질GDP'],\n",
      "      dtype='object')\n"
     ]
    }
   ],
   "source": [
    "# 조인\n",
    "\n",
    "result_GDP=pd.merge(data,data_GDP)\n",
    "\n",
    "print(result_GDP.shape)\n",
    "print(result_GDP.columns)"
   ]
  },
  {
   "cell_type": "code",
   "execution_count": 57,
   "metadata": {},
   "outputs": [
    {
     "data": {
      "text/html": [
       "<div>\n",
       "<style scoped>\n",
       "    .dataframe tbody tr th:only-of-type {\n",
       "        vertical-align: middle;\n",
       "    }\n",
       "\n",
       "    .dataframe tbody tr th {\n",
       "        vertical-align: top;\n",
       "    }\n",
       "\n",
       "    .dataframe thead th {\n",
       "        text-align: right;\n",
       "    }\n",
       "</style>\n",
       "<table border=\"1\" class=\"dataframe\">\n",
       "  <thead>\n",
       "    <tr style=\"text-align: right;\">\n",
       "      <th></th>\n",
       "      <th>created_date</th>\n",
       "      <th>분기</th>\n",
       "      <th>실질GDP</th>\n",
       "    </tr>\n",
       "  </thead>\n",
       "  <tbody>\n",
       "    <tr>\n",
       "      <th>0</th>\n",
       "      <td>2011-08-04T14:10:00.000000</td>\n",
       "      <td>2011Q3</td>\n",
       "      <td>3.1</td>\n",
       "    </tr>\n",
       "    <tr>\n",
       "      <th>1</th>\n",
       "      <td>2011-08-04T14:09:00.000000</td>\n",
       "      <td>2011Q3</td>\n",
       "      <td>3.1</td>\n",
       "    </tr>\n",
       "    <tr>\n",
       "      <th>2</th>\n",
       "      <td>2011-08-04T13:07:00.000000</td>\n",
       "      <td>2011Q3</td>\n",
       "      <td>3.1</td>\n",
       "    </tr>\n",
       "    <tr>\n",
       "      <th>3</th>\n",
       "      <td>2011-08-04T12:43:00.000000</td>\n",
       "      <td>2011Q3</td>\n",
       "      <td>3.1</td>\n",
       "    </tr>\n",
       "    <tr>\n",
       "      <th>4</th>\n",
       "      <td>2011-08-04T12:03:00.000000</td>\n",
       "      <td>2011Q3</td>\n",
       "      <td>3.1</td>\n",
       "    </tr>\n",
       "    <tr>\n",
       "      <th>...</th>\n",
       "      <td>...</td>\n",
       "      <td>...</td>\n",
       "      <td>...</td>\n",
       "    </tr>\n",
       "    <tr>\n",
       "      <th>409923</th>\n",
       "      <td>2019-03-29T07:29:00.000000</td>\n",
       "      <td>2019Q1</td>\n",
       "      <td>1.7</td>\n",
       "    </tr>\n",
       "    <tr>\n",
       "      <th>409924</th>\n",
       "      <td>2019-03-29T07:17:00.000000</td>\n",
       "      <td>2019Q1</td>\n",
       "      <td>1.7</td>\n",
       "    </tr>\n",
       "    <tr>\n",
       "      <th>409925</th>\n",
       "      <td>2019-03-29T03:39:00.000000</td>\n",
       "      <td>2019Q1</td>\n",
       "      <td>1.7</td>\n",
       "    </tr>\n",
       "    <tr>\n",
       "      <th>409926</th>\n",
       "      <td>2019-03-29T01:19:00.000000</td>\n",
       "      <td>2019Q1</td>\n",
       "      <td>1.7</td>\n",
       "    </tr>\n",
       "    <tr>\n",
       "      <th>409927</th>\n",
       "      <td>2019-03-29T00:05:00.000000</td>\n",
       "      <td>2019Q1</td>\n",
       "      <td>1.7</td>\n",
       "    </tr>\n",
       "  </tbody>\n",
       "</table>\n",
       "<p>409928 rows × 3 columns</p>\n",
       "</div>"
      ],
      "text/plain": [
       "                      created_date      분기  실질GDP\n",
       "0       2011-08-04T14:10:00.000000  2011Q3    3.1\n",
       "1       2011-08-04T14:09:00.000000  2011Q3    3.1\n",
       "2       2011-08-04T13:07:00.000000  2011Q3    3.1\n",
       "3       2011-08-04T12:43:00.000000  2011Q3    3.1\n",
       "4       2011-08-04T12:03:00.000000  2011Q3    3.1\n",
       "...                            ...     ...    ...\n",
       "409923  2019-03-29T07:29:00.000000  2019Q1    1.7\n",
       "409924  2019-03-29T07:17:00.000000  2019Q1    1.7\n",
       "409925  2019-03-29T03:39:00.000000  2019Q1    1.7\n",
       "409926  2019-03-29T01:19:00.000000  2019Q1    1.7\n",
       "409927  2019-03-29T00:05:00.000000  2019Q1    1.7\n",
       "\n",
       "[409928 rows x 3 columns]"
      ]
     },
     "execution_count": 57,
     "metadata": {},
     "output_type": "execute_result"
    }
   ],
   "source": [
    "# 확인\n",
    "\n",
    "result_GDP[['created_date','분기','실질GDP']]"
   ]
  },
  {
   "cell_type": "code",
   "execution_count": 11,
   "metadata": {},
   "outputs": [],
   "source": [
    "# 전체 파일 엑셀로 저장\n",
    "\n",
    "#result_GDP.to_excel('C:\\\\Users\\\\LENOVO\\\\new_online_news.xlsx',index=False)"
   ]
  },
  {
   "cell_type": "code",
   "execution_count": 66,
   "metadata": {},
   "outputs": [
    {
     "name": "stdout",
     "output_type": "stream",
     "text": [
      "Index(['content', 'created_date', 'publisher', 'section', 'uid', '분기', '명목GDP',\n",
      "       '실질GDP'],\n",
      "      dtype='object')\n"
     ]
    }
   ],
   "source": [
    "print(result_GDP.columns)"
   ]
  },
  {
   "cell_type": "code",
   "execution_count": 70,
   "metadata": {},
   "outputs": [],
   "source": [
    "result_GDP2=result_GDP[['content', 'created_date', 'publisher', 'section', 'uid', '분기', '명목GDP',\n",
    "       '실질GDP']][result_GDP['created_date'].str.contains('2015','2016')]"
   ]
  },
  {
   "cell_type": "code",
   "execution_count": 71,
   "metadata": {
    "scrolled": false
   },
   "outputs": [
    {
     "name": "stdout",
     "output_type": "stream",
     "text": [
      "2015-12-31T22:38:00.000000\n",
      "2015-01-01T02:22:00.000000\n"
     ]
    }
   ],
   "source": [
    "print(result_GDP2['created_date'].max())\n",
    "print(result_GDP2['created_date'].min())"
   ]
  },
  {
   "cell_type": "code",
   "execution_count": 6,
   "metadata": {},
   "outputs": [],
   "source": [
    "data2=data[['created_date','분기','실질GDP']]\n"
   ]
  },
  {
   "cell_type": "code",
   "execution_count": 8,
   "metadata": {},
   "outputs": [
    {
     "data": {
      "text/html": [
       "<div>\n",
       "<style scoped>\n",
       "    .dataframe tbody tr th:only-of-type {\n",
       "        vertical-align: middle;\n",
       "    }\n",
       "\n",
       "    .dataframe tbody tr th {\n",
       "        vertical-align: top;\n",
       "    }\n",
       "\n",
       "    .dataframe thead th {\n",
       "        text-align: right;\n",
       "    }\n",
       "</style>\n",
       "<table border=\"1\" class=\"dataframe\">\n",
       "  <thead>\n",
       "    <tr style=\"text-align: right;\">\n",
       "      <th></th>\n",
       "      <th>created_date</th>\n",
       "      <th>분기</th>\n",
       "      <th>실질GDP</th>\n",
       "    </tr>\n",
       "  </thead>\n",
       "  <tbody>\n",
       "    <tr>\n",
       "      <th>50287</th>\n",
       "      <td>2010-06-29T18:33:00.000000</td>\n",
       "      <td>2010Q2</td>\n",
       "      <td>7.9</td>\n",
       "    </tr>\n",
       "    <tr>\n",
       "      <th>41316</th>\n",
       "      <td>2010-06-16T11:21:00.000000</td>\n",
       "      <td>2010Q2</td>\n",
       "      <td>7.9</td>\n",
       "    </tr>\n",
       "    <tr>\n",
       "      <th>41315</th>\n",
       "      <td>2010-06-16T11:24:00.000000</td>\n",
       "      <td>2010Q2</td>\n",
       "      <td>7.9</td>\n",
       "    </tr>\n",
       "    <tr>\n",
       "      <th>41314</th>\n",
       "      <td>2010-06-16T11:27:00.000000</td>\n",
       "      <td>2010Q2</td>\n",
       "      <td>7.9</td>\n",
       "    </tr>\n",
       "    <tr>\n",
       "      <th>41313</th>\n",
       "      <td>2010-06-16T11:32:00.000000</td>\n",
       "      <td>2010Q2</td>\n",
       "      <td>7.9</td>\n",
       "    </tr>\n",
       "    <tr>\n",
       "      <th>...</th>\n",
       "      <td>...</td>\n",
       "      <td>...</td>\n",
       "      <td>...</td>\n",
       "    </tr>\n",
       "    <tr>\n",
       "      <th>405293</th>\n",
       "      <td>2019-03-05T16:02:00.000000</td>\n",
       "      <td>2019Q1</td>\n",
       "      <td>1.7</td>\n",
       "    </tr>\n",
       "    <tr>\n",
       "      <th>405292</th>\n",
       "      <td>2019-02-11T17:58:00.000000</td>\n",
       "      <td>2019Q1</td>\n",
       "      <td>1.7</td>\n",
       "    </tr>\n",
       "    <tr>\n",
       "      <th>405291</th>\n",
       "      <td>2019-01-29T18:01:00.000000</td>\n",
       "      <td>2019Q1</td>\n",
       "      <td>1.7</td>\n",
       "    </tr>\n",
       "    <tr>\n",
       "      <th>405302</th>\n",
       "      <td>2019-03-05T15:29:00.000000</td>\n",
       "      <td>2019Q1</td>\n",
       "      <td>1.7</td>\n",
       "    </tr>\n",
       "    <tr>\n",
       "      <th>409927</th>\n",
       "      <td>2019-03-29T00:05:00.000000</td>\n",
       "      <td>2019Q1</td>\n",
       "      <td>1.7</td>\n",
       "    </tr>\n",
       "  </tbody>\n",
       "</table>\n",
       "<p>409928 rows × 3 columns</p>\n",
       "</div>"
      ],
      "text/plain": [
       "                      created_date      분기  실질GDP\n",
       "50287   2010-06-29T18:33:00.000000  2010Q2    7.9\n",
       "41316   2010-06-16T11:21:00.000000  2010Q2    7.9\n",
       "41315   2010-06-16T11:24:00.000000  2010Q2    7.9\n",
       "41314   2010-06-16T11:27:00.000000  2010Q2    7.9\n",
       "41313   2010-06-16T11:32:00.000000  2010Q2    7.9\n",
       "...                            ...     ...    ...\n",
       "405293  2019-03-05T16:02:00.000000  2019Q1    1.7\n",
       "405292  2019-02-11T17:58:00.000000  2019Q1    1.7\n",
       "405291  2019-01-29T18:01:00.000000  2019Q1    1.7\n",
       "405302  2019-03-05T15:29:00.000000  2019Q1    1.7\n",
       "409927  2019-03-29T00:05:00.000000  2019Q1    1.7\n",
       "\n",
       "[409928 rows x 3 columns]"
      ]
     },
     "execution_count": 8,
     "metadata": {},
     "output_type": "execute_result"
    }
   ],
   "source": [
    "data2.sort_values(by=['분기'])"
   ]
  },
  {
   "cell_type": "code",
   "execution_count": null,
   "metadata": {},
   "outputs": [],
   "source": []
  }
 ],
 "metadata": {
  "kernelspec": {
   "display_name": "Python 3",
   "language": "python",
   "name": "python3"
  },
  "language_info": {
   "codemirror_mode": {
    "name": "ipython",
    "version": 3
   },
   "file_extension": ".py",
   "mimetype": "text/x-python",
   "name": "python",
   "nbconvert_exporter": "python",
   "pygments_lexer": "ipython3",
   "version": "3.7.6"
  }
 },
 "nbformat": 4,
 "nbformat_minor": 2
}
